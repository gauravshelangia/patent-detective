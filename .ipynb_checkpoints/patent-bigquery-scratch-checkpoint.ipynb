{
 "cells": [
  {
   "cell_type": "code",
   "execution_count": 1,
   "metadata": {},
   "outputs": [],
   "source": [
    "from google.cloud import bigquery"
   ]
  },
  {
   "cell_type": "code",
   "execution_count": 2,
   "metadata": {},
   "outputs": [],
   "source": [
    "project_name = 'patents-public-data'\n",
    "dataset_name = 'google_patents_research'\n"
   ]
  },
  {
   "cell_type": "code",
   "execution_count": 3,
   "metadata": {},
   "outputs": [],
   "source": [
    "client = bigquery.Client()\n",
    "data_set_ref = client.dataset(dataset_name, project=project_name)"
   ]
  },
  {
   "cell_type": "code",
   "execution_count": 4,
   "metadata": {},
   "outputs": [],
   "source": [
    "def get_tables(client, data_set):\n",
    "    \"\"\"\n",
    "    given a bigquery client and data_set_ref, this method will return the list of tables under that data_set_ref \n",
    "    which should have dataset_name and project_name.\n",
    "    \n",
    "    In case you want all table meta-data then change x.table_id to x.__dict__\n",
    "    \"\"\"\n",
    "    return [x.table_id for x in client.list_tables(data_set_ref)]"
   ]
  },
  {
   "cell_type": "code",
   "execution_count": 14,
   "metadata": {},
   "outputs": [
    {
     "data": {
      "text/plain": [
       "['publications',\n",
       " 'publications_201710',\n",
       " 'publications_201802',\n",
       " 'publications_201809']"
      ]
     },
     "execution_count": 14,
     "metadata": {},
     "output_type": "execute_result"
    }
   ],
   "source": [
    "get_tables(client, data_set_ref)"
   ]
  },
  {
   "cell_type": "code",
   "execution_count": 15,
   "metadata": {},
   "outputs": [],
   "source": [
    "query = ('SELECT * FROM `patents-public-data.google_patents_research.publications_201809` LIMIT 5')\n",
    "query_job = client.query(query)"
   ]
  },
  {
   "cell_type": "code",
   "execution_count": 18,
   "metadata": {},
   "outputs": [],
   "source": [
    "rows = client.list_rows('patents-public-data.patents.publications_201802', max_results=0)"
   ]
  },
  {
   "cell_type": "code",
   "execution_count": 19,
   "metadata": {},
   "outputs": [
    {
     "data": {
      "text/plain": [
       "['publication_number',\n",
       " 'application_number',\n",
       " 'country_code',\n",
       " 'kind_code',\n",
       " 'application_kind',\n",
       " 'application_number_formatted',\n",
       " 'pct_number',\n",
       " 'family_id',\n",
       " 'title_localized',\n",
       " 'abstract_localized',\n",
       " 'claims_localized',\n",
       " 'description_localized',\n",
       " 'publication_date',\n",
       " 'filing_date',\n",
       " 'grant_date',\n",
       " 'priority_date',\n",
       " 'priority_claim',\n",
       " 'inventor',\n",
       " 'inventor_harmonized',\n",
       " 'assignee',\n",
       " 'assignee_harmonized',\n",
       " 'examiner',\n",
       " 'uspc',\n",
       " 'ipc',\n",
       " 'cpc',\n",
       " 'fi',\n",
       " 'fterm',\n",
       " 'citation',\n",
       " 'entity_status',\n",
       " 'art_unit']"
      ]
     },
     "execution_count": 19,
     "metadata": {},
     "output_type": "execute_result"
    }
   ],
   "source": [
    "[field.name for field in rows.schema]"
   ]
  },
  {
   "cell_type": "code",
   "execution_count": null,
   "metadata": {},
   "outputs": [],
   "source": []
  }
 ],
 "metadata": {
  "kernelspec": {
   "display_name": "Python 3",
   "language": "python",
   "name": "python3"
  },
  "language_info": {
   "codemirror_mode": {
    "name": "ipython",
    "version": 3
   },
   "file_extension": ".py",
   "mimetype": "text/x-python",
   "name": "python",
   "nbconvert_exporter": "python",
   "pygments_lexer": "ipython3",
   "version": "3.7.2"
  }
 },
 "nbformat": 4,
 "nbformat_minor": 2
}
