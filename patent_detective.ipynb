{
 "cells": [
  {
   "cell_type": "markdown",
   "metadata": {},
   "source": [
    "This notebook provide some static analysis over public data set of patents available on google bigquery. For more knowledge about dataset refer to this article https://cloud.google.com/blog/products/gcp/google-patents-public-datasets-connecting-public-paid-and-private-patent-data. In this notebook, I have used table **publication** to do the analysis. I have also created a big_query helper class which I will be using to fetch the result from big query. Apart from that there is one more python file patent_detective which uses bigquery_helper to fetch data and plot the data using python matplotlib or other libraries. "
   ]
  },
  {
   "cell_type": "code",
   "execution_count": 1,
   "metadata": {},
   "outputs": [],
   "source": [
    "import big_query_helper as bq\n",
    "import patent_detective_analysis as pt\n",
    "import numpy as np\n",
    "import matplotlib.pyplot as plt\n",
    "import pandas as pd\n",
    "import seaborn as sns"
   ]
  },
  {
   "cell_type": "code",
   "execution_count": 2,
   "metadata": {},
   "outputs": [],
   "source": [
    "bigquery_patents_research = bq.BigQueryHelper(active_project=\"patents-public-data\",\n",
    "                                    dataset_name=\"google_patents_research\")\n"
   ]
  },
  {
   "cell_type": "code",
   "execution_count": 3,
   "metadata": {},
   "outputs": [
    {
     "data": {
      "text/plain": [
       "['publications',\n",
       " 'publications_201710',\n",
       " 'publications_201802',\n",
       " 'publications_201809']"
      ]
     },
     "execution_count": 3,
     "metadata": {},
     "output_type": "execute_result"
    }
   ],
   "source": [
    "# This will get us all the tables under dataset = google_patents_reseach\n",
    "bigquery_patents_research.get_tables()"
   ]
  },
  {
   "cell_type": "code",
   "execution_count": 4,
   "metadata": {},
   "outputs": [],
   "source": [
    "# Next we will be using `publications` table for our analysis purpose"
   ]
  },
  {
   "cell_type": "code",
   "execution_count": 5,
   "metadata": {},
   "outputs": [],
   "source": [
    "patent_detective = pt.PatentDetective(active_project='patents-public-data', dataset_name = 'google_patents_research', table_name = 'publications')"
   ]
  },
  {
   "cell_type": "markdown",
   "metadata": {},
   "source": [
    "### Analysis on inventors of publications\n",
    "Below we are fetching avg_inventors per country per year from google big query. And then we will be using this to plot various chart from the extracted data. This provides the number of inventor for each country per year. Wel will be using this to plot a simple bar chart and heatmap. "
   ]
  },
  {
   "cell_type": "code",
   "execution_count": 6,
   "metadata": {},
   "outputs": [
    {
     "data": {
      "text/html": [
       "<div>\n",
       "<style scoped>\n",
       "    .dataframe tbody tr th:only-of-type {\n",
       "        vertical-align: middle;\n",
       "    }\n",
       "\n",
       "    .dataframe tbody tr th {\n",
       "        vertical-align: top;\n",
       "    }\n",
       "\n",
       "    .dataframe thead th {\n",
       "        text-align: right;\n",
       "    }\n",
       "</style>\n",
       "<table border=\"1\" class=\"dataframe\">\n",
       "  <thead>\n",
       "    <tr style=\"text-align: right;\">\n",
       "      <th></th>\n",
       "      <th>f0_</th>\n",
       "      <th>cnt</th>\n",
       "      <th>country_code</th>\n",
       "      <th>filing_year</th>\n",
       "    </tr>\n",
       "  </thead>\n",
       "  <tbody>\n",
       "    <tr>\n",
       "      <th>767</th>\n",
       "      <td>2.888767</td>\n",
       "      <td>7369566</td>\n",
       "      <td>CN</td>\n",
       "      <td>2015</td>\n",
       "    </tr>\n",
       "  </tbody>\n",
       "</table>\n",
       "</div>"
      ],
      "text/plain": [
       "          f0_      cnt country_code  filing_year\n",
       "767  2.888767  7369566           CN         2015"
      ]
     },
     "execution_count": 6,
     "metadata": {},
     "output_type": "execute_result"
    }
   ],
   "source": [
    "avg_inventors = patent_detective.avg_inventors_per_country()\n",
    "avg_inventor_sorted = avg_inventors.sort_values(by='cnt', ascending=False)\n",
    "avg_inventor_sorted[:1]"
   ]
  },
  {
   "cell_type": "code",
   "execution_count": 8,
   "metadata": {},
   "outputs": [
    {
     "data": {
      "image/png": "[encoded data removed]",
      "text/plain": [
       "<Figure size 432x288 with 1 Axes>"
      ]
     },
     "metadata": {
      "needs_background": "light"
     },
     "output_type": "display_data"
    }
   ],
   "source": [
    "counts_sorted = avg_inventor_sorted['cnt'][:100].tolist()\n",
    "country_codes_sorted = avg_inventor_sorted['country_code'][:100].tolist()\n",
    "plt.bar(country_codes_sorted, counts_sorted, align='edge', width=0.3)\n",
    "plt.show()"
   ]
  },
  {
   "cell_type": "markdown",
   "metadata": {},
   "source": [
    "Above chart provides the bar chart of number of inventor for each country where CN is having leading all other country with large margin and then being followed by US and JP which are almost equal. "
   ]
  },
  {
   "cell_type": "code",
   "execution_count": 9,
   "metadata": {},
   "outputs": [
    {
     "data": {
      "image/png": "[encoded data removed]",
      "text/plain": [
       "<Figure size 432x288 with 1 Axes>"
      ]
     },
     "metadata": {
      "needs_background": "light"
     },
     "output_type": "display_data"
    }
   ],
   "source": [
    "# below is the bar plot for patents count for each country from top 100 row of avg_inventors\n",
    "counts = avg_inventors['cnt'][:100].tolist()\n",
    "country_codes = avg_inventors['country_code'][:100].tolist()\n",
    "plt.bar(country_codes, counts, align='edge', width=0.3)\n",
    "plt.show()"
   ]
  },
  {
   "cell_type": "markdown",
   "metadata": {},
   "source": [
    "Below we will be plotting a heatmap depicting the change in number of invetors over a period of time from 1970 to 2015. And we have used 10 countries for this ananlysis which are ('US', 'FR', 'GB', 'AT', 'CH', 'CA', 'AU', 'DE', 'DK', 'SU'). For few countries, number of inventors in not available in google bigquery dataset for some years. "
   ]
  },
  {
   "cell_type": "code",
   "execution_count": 10,
   "metadata": {},
   "outputs": [],
   "source": [
    "# unique() method will return the unique country_codes from dataframe avg_inventors\n",
    "# avg_inventors.country_code.unique()\n",
    "countries=['US', 'FR', 'GB', 'AT', 'CH', 'CA', 'AU', 'DE', 'DK', 'SU']\n",
    "filing_years = [1970, 1975, 1980, 1985, 1990, 1995, 2000, 2005, 2010, 2015]\n",
    "truncated_data = avg_inventors.loc[avg_inventors['country_code'].isin(countries) & avg_inventors['filing_year'].isin(filing_years) ]"
   ]
  },
  {
   "cell_type": "code",
   "execution_count": 11,
   "metadata": {},
   "outputs": [
    {
     "data": {
      "text/html": [
       "<div>\n",
       "<style scoped>\n",
       "    .dataframe tbody tr th:only-of-type {\n",
       "        vertical-align: middle;\n",
       "    }\n",
       "\n",
       "    .dataframe tbody tr th {\n",
       "        vertical-align: top;\n",
       "    }\n",
       "\n",
       "    .dataframe thead th {\n",
       "        text-align: right;\n",
       "    }\n",
       "</style>\n",
       "<table border=\"1\" class=\"dataframe\">\n",
       "  <thead>\n",
       "    <tr style=\"text-align: right;\">\n",
       "      <th></th>\n",
       "      <th>f0_</th>\n",
       "      <th>cnt</th>\n",
       "      <th>country_code</th>\n",
       "      <th>filing_year</th>\n",
       "    </tr>\n",
       "  </thead>\n",
       "  <tbody>\n",
       "    <tr>\n",
       "      <th>168</th>\n",
       "      <td>1.703795</td>\n",
       "      <td>239645</td>\n",
       "      <td>DE</td>\n",
       "      <td>1970</td>\n",
       "    </tr>\n",
       "    <tr>\n",
       "      <th>169</th>\n",
       "      <td>2.099878</td>\n",
       "      <td>9041</td>\n",
       "      <td>AT</td>\n",
       "      <td>1970</td>\n",
       "    </tr>\n",
       "    <tr>\n",
       "      <th>173</th>\n",
       "      <td>1.779474</td>\n",
       "      <td>7532</td>\n",
       "      <td>GB</td>\n",
       "      <td>1970</td>\n",
       "    </tr>\n",
       "    <tr>\n",
       "      <th>176</th>\n",
       "      <td>1.623402</td>\n",
       "      <td>328544</td>\n",
       "      <td>US</td>\n",
       "      <td>1970</td>\n",
       "    </tr>\n",
       "    <tr>\n",
       "      <th>178</th>\n",
       "      <td>1.746557</td>\n",
       "      <td>46042</td>\n",
       "      <td>AU</td>\n",
       "      <td>1970</td>\n",
       "    </tr>\n",
       "    <tr>\n",
       "      <th>182</th>\n",
       "      <td>3.253608</td>\n",
       "      <td>23560</td>\n",
       "      <td>SU</td>\n",
       "      <td>1970</td>\n",
       "    </tr>\n",
       "    <tr>\n",
       "      <th>191</th>\n",
       "      <td>1.723110</td>\n",
       "      <td>32558</td>\n",
       "      <td>CH</td>\n",
       "      <td>1970</td>\n",
       "    </tr>\n",
       "    <tr>\n",
       "      <th>197</th>\n",
       "      <td>1.760020</td>\n",
       "      <td>106363</td>\n",
       "      <td>CA</td>\n",
       "      <td>1970</td>\n",
       "    </tr>\n",
       "    <tr>\n",
       "      <th>198</th>\n",
       "      <td>1.917405</td>\n",
       "      <td>16030</td>\n",
       "      <td>DK</td>\n",
       "      <td>1970</td>\n",
       "    </tr>\n",
       "    <tr>\n",
       "      <th>199</th>\n",
       "      <td>1.086631</td>\n",
       "      <td>3740</td>\n",
       "      <td>FR</td>\n",
       "      <td>1970</td>\n",
       "    </tr>\n",
       "  </tbody>\n",
       "</table>\n",
       "</div>"
      ],
      "text/plain": [
       "          f0_     cnt country_code  filing_year\n",
       "168  1.703795  239645           DE         1970\n",
       "169  2.099878    9041           AT         1970\n",
       "173  1.779474    7532           GB         1970\n",
       "176  1.623402  328544           US         1970\n",
       "178  1.746557   46042           AU         1970\n",
       "182  3.253608   23560           SU         1970\n",
       "191  1.723110   32558           CH         1970\n",
       "197  1.760020  106363           CA         1970\n",
       "198  1.917405   16030           DK         1970\n",
       "199  1.086631    3740           FR         1970"
      ]
     },
     "execution_count": 11,
     "metadata": {},
     "output_type": "execute_result"
    }
   ],
   "source": [
    "truncated_data[:10]"
   ]
  },
  {
   "cell_type": "code",
   "execution_count": 12,
   "metadata": {},
   "outputs": [
    {
     "data": {
      "text/plain": [
       "<matplotlib.axes._subplots.AxesSubplot at 0x1a1a0ee208>"
      ]
     },
     "execution_count": 12,
     "metadata": {},
     "output_type": "execute_result"
    },
    {
     "data": {
      "image/png": "[encoded data removed]",
      "text/plain": [
       "<Figure size 432x288 with 2 Axes>"
      ]
     },
     "metadata": {
      "needs_background": "light"
     },
     "output_type": "display_data"
    }
   ],
   "source": [
    "truncated_data_pivoted = truncated_data.pivot('country_code','filing_year','cnt')\n",
    "sns.heatmap(truncated_data_pivoted, linewidths=.5)"
   ]
  },
  {
   "cell_type": "markdown",
   "metadata": {},
   "source": [
    "Above we have created a heat map for countries and count of inventors over period of 45 years. This data can also be plotted as an image where our data will act as an image matrix with count being the number of pixel at that particular location. Below is the sample for this:"
   ]
  },
  {
   "cell_type": "code",
   "execution_count": 16,
   "metadata": {},
   "outputs": [
    {
     "data": {
      "image/png": "[encoded data removed]",
      "text/plain": [
       "<Figure size 432x288 with 2 Axes>"
      ]
     },
     "metadata": {
      "needs_background": "light"
     },
     "output_type": "display_data"
    }
   ],
   "source": [
    "tr_np_array = truncated_data_pivoted.to_numpy()\n",
    "plt.imshow(tr_np_array, cmap='viridis')\n",
    "plt.colorbar()\n",
    "plt.show()"
   ]
  },
  {
   "cell_type": "markdown",
   "metadata": {},
   "source": [
    "Below analysis is one of the question being asked on indorse platform where we need to find the top term used in 1000 most recent patents. "
   ]
  },
  {
   "cell_type": "code",
   "execution_count": 7,
   "metadata": {},
   "outputs": [
    {
     "data": {
      "text/plain": [
       "[('method', 203),\n",
       " ('process', 85),\n",
       " ('means', 65),\n",
       " ('cells', 48),\n",
       " ('cell', 41),\n",
       " ('water', 40),\n",
       " ('ml', 39),\n",
       " ('characterized', 38),\n",
       " ('solution', 36),\n",
       " ('mixture', 35)]"
      ]
     },
     "execution_count": 7,
     "metadata": {},
     "output_type": "execute_result"
    }
   ],
   "source": [
    "# Fetch top terms from project patents-public-data and dataset = google-patents-research \n",
    "# project with table = publications and this is with limit of 1000 on publications. \n",
    "top_terms = patent_detective.top_terms()\n",
    "top_terms[:10]"
   ]
  },
  {
   "cell_type": "code",
   "execution_count": 8,
   "metadata": {},
   "outputs": [
    {
     "data": {
      "image/png": "[encoded data removed]",
      "text/plain": [
       "<Figure size 432x288 with 1 Axes>"
      ]
     },
     "metadata": {
      "needs_background": "light"
     },
     "output_type": "display_data"
    }
   ],
   "source": [
    "# plot top 10 top terms\n",
    "patent_detective.plot_top_n_terms(10)"
   ]
  },
  {
   "cell_type": "markdown",
   "metadata": {},
   "source": [
    "Now, each publication has been cited number of other publication. In google bigquery this data is present as an array of publication which has cited that particular publication. So below is the analysis on publication citation  as to find the most cited publication. We are getting publciation_number and number of times publication has been cited as *cnt*. To get the more details about the publication, we can use publication_number on https://patents.google.com/ to get the details of publication. "
   ]
  },
  {
   "cell_type": "code",
   "execution_count": 9,
   "metadata": {},
   "outputs": [
    {
     "data": {
      "text/html": [
       "<div>\n",
       "<style scoped>\n",
       "    .dataframe tbody tr th:only-of-type {\n",
       "        vertical-align: middle;\n",
       "    }\n",
       "\n",
       "    .dataframe tbody tr th {\n",
       "        vertical-align: top;\n",
       "    }\n",
       "\n",
       "    .dataframe thead th {\n",
       "        text-align: right;\n",
       "    }\n",
       "</style>\n",
       "<table border=\"1\" class=\"dataframe\">\n",
       "  <thead>\n",
       "    <tr style=\"text-align: right;\">\n",
       "      <th></th>\n",
       "      <th>publication_number</th>\n",
       "      <th>cnt</th>\n",
       "    </tr>\n",
       "  </thead>\n",
       "  <tbody>\n",
       "    <tr>\n",
       "      <th>0</th>\n",
       "      <td>US-4683202-A</td>\n",
       "      <td>9709</td>\n",
       "    </tr>\n",
       "    <tr>\n",
       "      <th>1</th>\n",
       "      <td>US-4683202-B1</td>\n",
       "      <td>9709</td>\n",
       "    </tr>\n",
       "    <tr>\n",
       "      <th>2</th>\n",
       "      <td>US-4816567-A</td>\n",
       "      <td>8136</td>\n",
       "    </tr>\n",
       "    <tr>\n",
       "      <th>3</th>\n",
       "      <td>US-4683195-B1</td>\n",
       "      <td>7758</td>\n",
       "    </tr>\n",
       "    <tr>\n",
       "      <th>4</th>\n",
       "      <td>US-4683195-A</td>\n",
       "      <td>7758</td>\n",
       "    </tr>\n",
       "    <tr>\n",
       "      <th>5</th>\n",
       "      <td>US-5523520-A</td>\n",
       "      <td>4856</td>\n",
       "    </tr>\n",
       "    <tr>\n",
       "      <th>6</th>\n",
       "      <td>US-5892900-A</td>\n",
       "      <td>4698</td>\n",
       "    </tr>\n",
       "    <tr>\n",
       "      <th>7</th>\n",
       "      <td>US-4946778-A</td>\n",
       "      <td>4651</td>\n",
       "    </tr>\n",
       "    <tr>\n",
       "      <th>8</th>\n",
       "      <td>US-4733665-A</td>\n",
       "      <td>4639</td>\n",
       "    </tr>\n",
       "    <tr>\n",
       "      <th>9</th>\n",
       "      <td>US-4733665-B1</td>\n",
       "      <td>4639</td>\n",
       "    </tr>\n",
       "  </tbody>\n",
       "</table>\n",
       "</div>"
      ],
      "text/plain": [
       "  publication_number   cnt\n",
       "0       US-4683202-A  9709\n",
       "1      US-4683202-B1  9709\n",
       "2       US-4816567-A  8136\n",
       "3      US-4683195-B1  7758\n",
       "4       US-4683195-A  7758\n",
       "5       US-5523520-A  4856\n",
       "6       US-5892900-A  4698\n",
       "7       US-4946778-A  4651\n",
       "8       US-4733665-A  4639\n",
       "9      US-4733665-B1  4639"
      ]
     },
     "execution_count": 9,
     "metadata": {},
     "output_type": "execute_result"
    }
   ],
   "source": [
    "# data around most cited publications\n",
    "most_cited_publications = patent_detective.most_cited_publications()\n",
    "most_cited_publications[:10]"
   ]
  },
  {
   "cell_type": "code",
   "execution_count": 10,
   "metadata": {},
   "outputs": [
    {
     "data": {
      "image/png": "[encoded data removed]",
      "text/plain": [
       "<Figure size 432x288 with 1 Axes>"
      ]
     },
     "metadata": {
      "needs_background": "light"
     },
     "output_type": "display_data"
    }
   ],
   "source": [
    "# plot top 100 most cited publications\n",
    "patent_detective.plot_most_cited_publication(100)"
   ]
  },
  {
   "cell_type": "code",
   "execution_count": 13,
   "metadata": {},
   "outputs": [
    {
     "data": {
      "image/png": "[encoded data removed]",
      "text/plain": [
       "<Figure size 432x288 with 1 Axes>"
      ]
     },
     "metadata": {
      "needs_background": "light"
     },
     "output_type": "display_data"
    }
   ],
   "source": [
    "# Char for top 10 most cited publications\n",
    "patent_detective.plot_most_cited_publication(10)"
   ]
  },
  {
   "cell_type": "code",
   "execution_count": null,
   "metadata": {},
   "outputs": [],
   "source": []
  }
 ],
 "metadata": {
  "kernelspec": {
   "display_name": "Python 3",
   "language": "python",
   "name": "python3"
  },
  "language_info": {
   "codemirror_mode": {
    "name": "ipython",
    "version": 3
   },
   "file_extension": ".py",
   "mimetype": "text/x-python",
   "name": "python",
   "nbconvert_exporter": "python",
   "pygments_lexer": "ipython3",
   "version": "3.7.3"
  }
 },
 "nbformat": 4,
 "nbformat_minor": 2
}
